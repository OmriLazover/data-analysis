{
 "cells": [
  {
   "cell_type": "code",
   "execution_count": 1,
   "id": "5f4c1baa",
   "metadata": {},
   "outputs": [],
   "source": [
    "import numpy as np\n",
    "import pandas as pd\n",
    "import matplotlib.pyplot as plt\n",
    "import seaborn as sns\n",
    "\n",
    "from sklearn.neighbors import KNeighborsClassifier\n",
    "from sklearn.model_selection import train_test_split\n",
    "from sklearn.model_selection import cross_val_score\n",
    "\n",
    "from sklearn.preprocessing import MinMaxScaler\n",
    "\n",
    "\n",
    "from sklearn.metrics import accuracy_score, precision_score, recall_score, f1_score, confusion_matrix"
   ]
  },
  {
   "cell_type": "markdown",
   "id": "90aa3301",
   "metadata": {},
   "source": [
    "# 1. Choose a dataset"
   ]
  },
  {
   "cell_type": "code",
   "execution_count": 2,
   "id": "56edf0cd",
   "metadata": {},
   "outputs": [],
   "source": [
    "df_employees = pd.read_csv('employee.csv')"
   ]
  },
  {
   "cell_type": "code",
   "execution_count": 3,
   "id": "1a2a642c",
   "metadata": {},
   "outputs": [
    {
     "data": {
      "text/html": [
       "<div>\n",
       "<style scoped>\n",
       "    .dataframe tbody tr th:only-of-type {\n",
       "        vertical-align: middle;\n",
       "    }\n",
       "\n",
       "    .dataframe tbody tr th {\n",
       "        vertical-align: top;\n",
       "    }\n",
       "\n",
       "    .dataframe thead th {\n",
       "        text-align: right;\n",
       "    }\n",
       "</style>\n",
       "<table border=\"1\" class=\"dataframe\">\n",
       "  <thead>\n",
       "    <tr style=\"text-align: right;\">\n",
       "      <th></th>\n",
       "      <th>Education</th>\n",
       "      <th>JoiningYear</th>\n",
       "      <th>City</th>\n",
       "      <th>PaymentTier</th>\n",
       "      <th>Age</th>\n",
       "      <th>Gender</th>\n",
       "      <th>EverBenched</th>\n",
       "      <th>ExperienceInCurrentDomain</th>\n",
       "      <th>LeaveOrNot</th>\n",
       "    </tr>\n",
       "  </thead>\n",
       "  <tbody>\n",
       "    <tr>\n",
       "      <th>0</th>\n",
       "      <td>Bachelors</td>\n",
       "      <td>2017</td>\n",
       "      <td>Bangalore</td>\n",
       "      <td>3</td>\n",
       "      <td>34</td>\n",
       "      <td>Male</td>\n",
       "      <td>No</td>\n",
       "      <td>0</td>\n",
       "      <td>0</td>\n",
       "    </tr>\n",
       "    <tr>\n",
       "      <th>1</th>\n",
       "      <td>Bachelors</td>\n",
       "      <td>2013</td>\n",
       "      <td>Pune</td>\n",
       "      <td>1</td>\n",
       "      <td>28</td>\n",
       "      <td>Female</td>\n",
       "      <td>No</td>\n",
       "      <td>3</td>\n",
       "      <td>1</td>\n",
       "    </tr>\n",
       "    <tr>\n",
       "      <th>2</th>\n",
       "      <td>Bachelors</td>\n",
       "      <td>2014</td>\n",
       "      <td>New Delhi</td>\n",
       "      <td>3</td>\n",
       "      <td>38</td>\n",
       "      <td>Female</td>\n",
       "      <td>No</td>\n",
       "      <td>2</td>\n",
       "      <td>0</td>\n",
       "    </tr>\n",
       "    <tr>\n",
       "      <th>3</th>\n",
       "      <td>Masters</td>\n",
       "      <td>2016</td>\n",
       "      <td>Bangalore</td>\n",
       "      <td>3</td>\n",
       "      <td>27</td>\n",
       "      <td>Male</td>\n",
       "      <td>No</td>\n",
       "      <td>5</td>\n",
       "      <td>1</td>\n",
       "    </tr>\n",
       "    <tr>\n",
       "      <th>4</th>\n",
       "      <td>Masters</td>\n",
       "      <td>2017</td>\n",
       "      <td>Pune</td>\n",
       "      <td>3</td>\n",
       "      <td>24</td>\n",
       "      <td>Male</td>\n",
       "      <td>Yes</td>\n",
       "      <td>2</td>\n",
       "      <td>1</td>\n",
       "    </tr>\n",
       "  </tbody>\n",
       "</table>\n",
       "</div>"
      ],
      "text/plain": [
       "   Education  JoiningYear       City  PaymentTier  Age  Gender EverBenched  \\\n",
       "0  Bachelors         2017  Bangalore            3   34    Male          No   \n",
       "1  Bachelors         2013       Pune            1   28  Female          No   \n",
       "2  Bachelors         2014  New Delhi            3   38  Female          No   \n",
       "3    Masters         2016  Bangalore            3   27    Male          No   \n",
       "4    Masters         2017       Pune            3   24    Male         Yes   \n",
       "\n",
       "   ExperienceInCurrentDomain  LeaveOrNot  \n",
       "0                          0           0  \n",
       "1                          3           1  \n",
       "2                          2           0  \n",
       "3                          5           1  \n",
       "4                          2           1  "
      ]
     },
     "execution_count": 3,
     "metadata": {},
     "output_type": "execute_result"
    }
   ],
   "source": [
    "df_employees.head()"
   ]
  },
  {
   "cell_type": "code",
   "execution_count": 4,
   "id": "bb13e434",
   "metadata": {},
   "outputs": [
    {
     "data": {
      "text/plain": [
       "array(['Education', 'JoiningYear', 'City', 'PaymentTier', 'Age', 'Gender',\n",
       "       'EverBenched', 'ExperienceInCurrentDomain', 'LeaveOrNot'],\n",
       "      dtype=object)"
      ]
     },
     "execution_count": 4,
     "metadata": {},
     "output_type": "execute_result"
    }
   ],
   "source": [
    "df_employees.columns.values"
   ]
  },
  {
   "cell_type": "code",
   "execution_count": 5,
   "id": "26793ad4",
   "metadata": {},
   "outputs": [
    {
     "name": "stdout",
     "output_type": "stream",
     "text": [
      "<class 'pandas.core.frame.DataFrame'>\n",
      "RangeIndex: 4653 entries, 0 to 4652\n",
      "Data columns (total 9 columns):\n",
      " #   Column                     Non-Null Count  Dtype \n",
      "---  ------                     --------------  ----- \n",
      " 0   Education                  4653 non-null   object\n",
      " 1   JoiningYear                4653 non-null   int64 \n",
      " 2   City                       4653 non-null   object\n",
      " 3   PaymentTier                4653 non-null   int64 \n",
      " 4   Age                        4653 non-null   int64 \n",
      " 5   Gender                     4653 non-null   object\n",
      " 6   EverBenched                4653 non-null   object\n",
      " 7   ExperienceInCurrentDomain  4653 non-null   int64 \n",
      " 8   LeaveOrNot                 4653 non-null   int64 \n",
      "dtypes: int64(5), object(4)\n",
      "memory usage: 327.3+ KB\n"
     ]
    }
   ],
   "source": [
    "df_employees.info()"
   ]
  },
  {
   "cell_type": "markdown",
   "id": "498c61ec",
   "metadata": {},
   "source": [
    "We can see that we don't have NULL values in our data set"
   ]
  },
  {
   "cell_type": "code",
   "execution_count": 6,
   "id": "f887440a",
   "metadata": {},
   "outputs": [
    {
     "data": {
      "text/html": [
       "<div>\n",
       "<style scoped>\n",
       "    .dataframe tbody tr th:only-of-type {\n",
       "        vertical-align: middle;\n",
       "    }\n",
       "\n",
       "    .dataframe tbody tr th {\n",
       "        vertical-align: top;\n",
       "    }\n",
       "\n",
       "    .dataframe thead th {\n",
       "        text-align: right;\n",
       "    }\n",
       "</style>\n",
       "<table border=\"1\" class=\"dataframe\">\n",
       "  <thead>\n",
       "    <tr style=\"text-align: right;\">\n",
       "      <th></th>\n",
       "      <th>JoiningYear</th>\n",
       "      <th>PaymentTier</th>\n",
       "      <th>Age</th>\n",
       "      <th>ExperienceInCurrentDomain</th>\n",
       "      <th>LeaveOrNot</th>\n",
       "    </tr>\n",
       "  </thead>\n",
       "  <tbody>\n",
       "    <tr>\n",
       "      <th>count</th>\n",
       "      <td>4653.000000</td>\n",
       "      <td>4653.000000</td>\n",
       "      <td>4653.000000</td>\n",
       "      <td>4653.000000</td>\n",
       "      <td>4653.000000</td>\n",
       "    </tr>\n",
       "    <tr>\n",
       "      <th>mean</th>\n",
       "      <td>2015.062970</td>\n",
       "      <td>2.698259</td>\n",
       "      <td>29.393295</td>\n",
       "      <td>2.905652</td>\n",
       "      <td>0.343864</td>\n",
       "    </tr>\n",
       "    <tr>\n",
       "      <th>std</th>\n",
       "      <td>1.863377</td>\n",
       "      <td>0.561435</td>\n",
       "      <td>4.826087</td>\n",
       "      <td>1.558240</td>\n",
       "      <td>0.475047</td>\n",
       "    </tr>\n",
       "    <tr>\n",
       "      <th>min</th>\n",
       "      <td>2012.000000</td>\n",
       "      <td>1.000000</td>\n",
       "      <td>22.000000</td>\n",
       "      <td>0.000000</td>\n",
       "      <td>0.000000</td>\n",
       "    </tr>\n",
       "    <tr>\n",
       "      <th>25%</th>\n",
       "      <td>2013.000000</td>\n",
       "      <td>3.000000</td>\n",
       "      <td>26.000000</td>\n",
       "      <td>2.000000</td>\n",
       "      <td>0.000000</td>\n",
       "    </tr>\n",
       "    <tr>\n",
       "      <th>50%</th>\n",
       "      <td>2015.000000</td>\n",
       "      <td>3.000000</td>\n",
       "      <td>28.000000</td>\n",
       "      <td>3.000000</td>\n",
       "      <td>0.000000</td>\n",
       "    </tr>\n",
       "    <tr>\n",
       "      <th>75%</th>\n",
       "      <td>2017.000000</td>\n",
       "      <td>3.000000</td>\n",
       "      <td>32.000000</td>\n",
       "      <td>4.000000</td>\n",
       "      <td>1.000000</td>\n",
       "    </tr>\n",
       "    <tr>\n",
       "      <th>max</th>\n",
       "      <td>2018.000000</td>\n",
       "      <td>3.000000</td>\n",
       "      <td>41.000000</td>\n",
       "      <td>7.000000</td>\n",
       "      <td>1.000000</td>\n",
       "    </tr>\n",
       "  </tbody>\n",
       "</table>\n",
       "</div>"
      ],
      "text/plain": [
       "       JoiningYear  PaymentTier          Age  ExperienceInCurrentDomain  \\\n",
       "count  4653.000000  4653.000000  4653.000000                4653.000000   \n",
       "mean   2015.062970     2.698259    29.393295                   2.905652   \n",
       "std       1.863377     0.561435     4.826087                   1.558240   \n",
       "min    2012.000000     1.000000    22.000000                   0.000000   \n",
       "25%    2013.000000     3.000000    26.000000                   2.000000   \n",
       "50%    2015.000000     3.000000    28.000000                   3.000000   \n",
       "75%    2017.000000     3.000000    32.000000                   4.000000   \n",
       "max    2018.000000     3.000000    41.000000                   7.000000   \n",
       "\n",
       "        LeaveOrNot  \n",
       "count  4653.000000  \n",
       "mean      0.343864  \n",
       "std       0.475047  \n",
       "min       0.000000  \n",
       "25%       0.000000  \n",
       "50%       0.000000  \n",
       "75%       1.000000  \n",
       "max       1.000000  "
      ]
     },
     "execution_count": 6,
     "metadata": {},
     "output_type": "execute_result"
    }
   ],
   "source": [
    "df_employees.describe()"
   ]
  },
  {
   "cell_type": "code",
   "execution_count": 7,
   "id": "10ab1771",
   "metadata": {},
   "outputs": [
    {
     "data": {
      "text/plain": [
       "(4653, 9)"
      ]
     },
     "execution_count": 7,
     "metadata": {},
     "output_type": "execute_result"
    }
   ],
   "source": [
    "df_employees.shape"
   ]
  },
  {
   "cell_type": "markdown",
   "id": "e6df9f91",
   "metadata": {},
   "source": [
    "a.\tWe chose the Employee Future Prediction dataset.\n",
    "<br><br>\n",
    "b.\tThe dataset tries to predict the employee's future in the company. The dataset has personal information about the company's employees (such as education level, sex, age…), as well as professional information (payment tier, experience in current domain…). In addition, the data contains the prediction of whether the employee would leave the company in the next 2 years.\n",
    "<br>\n",
    "\n",
    "c. <br>\n",
    "1. Education - employee's degree - Bachelors, Masters, PHD (Categorial).\n",
    "2. JoiningYear - The year the employee joined the company (Categorial).\n",
    "3. City - City office where posted\n",
    "4. PaymentTier - \n",
    "5. Age - Current age\n",
    "6. Gender - Gender of employee\n",
    "7. EverBenched - Ever kept out of projects for 1 month or more\n",
    "8. ExperienceInCurrentDomain - Experience in current field\n",
    "9. LeaveOrNot - Whether employee leaves the company in next 2 years."
   ]
  },
  {
   "cell_type": "code",
   "execution_count": 10,
   "id": "9f0bacd9",
   "metadata": {},
   "outputs": [
    {
     "name": "stdout",
     "output_type": "stream",
     "text": [
      "d. The data set has 4653 records\n"
     ]
    }
   ],
   "source": [
    "print(f\"d. The data set has {df_employees.shape[0]} records\")"
   ]
  },
  {
   "cell_type": "markdown",
   "id": "78b456d9",
   "metadata": {},
   "source": [
    "# 2. Exploratory data analysis"
   ]
  },
  {
   "cell_type": "code",
   "execution_count": 11,
   "id": "fff7e529",
   "metadata": {},
   "outputs": [
    {
     "data": {
      "text/plain": [
       "array([34, 28, 38, 27, 24, 22, 23, 37, 32, 39, 29, 30, 36, 31, 25, 26, 40,\n",
       "       35, 33, 41], dtype=int64)"
      ]
     },
     "execution_count": 11,
     "metadata": {},
     "output_type": "execute_result"
    }
   ],
   "source": [
    "df_employees[\"Age\"].unique()"
   ]
  },
  {
   "cell_type": "code",
   "execution_count": 12,
   "id": "a8840749",
   "metadata": {},
   "outputs": [
    {
     "data": {
      "text/plain": [
       "array(['Bachelors', 'Masters', 'PHD'], dtype=object)"
      ]
     },
     "execution_count": 12,
     "metadata": {},
     "output_type": "execute_result"
    }
   ],
   "source": [
    "df_employees[\"Education\"].unique()"
   ]
  },
  {
   "cell_type": "code",
   "execution_count": 13,
   "id": "3a773a8f",
   "metadata": {},
   "outputs": [
    {
     "data": {
      "text/plain": [
       "array([2017, 2013, 2014, 2016, 2015, 2012, 2018], dtype=int64)"
      ]
     },
     "execution_count": 13,
     "metadata": {},
     "output_type": "execute_result"
    }
   ],
   "source": [
    "df_employees[\"JoiningYear\"].unique()"
   ]
  },
  {
   "cell_type": "markdown",
   "id": "1bedef34",
   "metadata": {},
   "source": [
    "First, we wanted to make 2 changes in our data:\n",
    "<br>\n",
    "    (a) We flipped the PaymentTier's values in a wayu that a higher number means a higher salary (0-2). Then changed its name to \"SalaryLevel\" in order to distinguish between the 2 variables.\n",
    "    <br>\n",
    "    (b) We changed the education classes to numbers :'Bachelors': 1, 'Masters': 2, 'PHD': 3 "
   ]
  },
  {
   "cell_type": "code",
   "execution_count": 14,
   "id": "bb67f064",
   "metadata": {},
   "outputs": [
    {
     "data": {
      "text/html": [
       "<div>\n",
       "<style scoped>\n",
       "    .dataframe tbody tr th:only-of-type {\n",
       "        vertical-align: middle;\n",
       "    }\n",
       "\n",
       "    .dataframe tbody tr th {\n",
       "        vertical-align: top;\n",
       "    }\n",
       "\n",
       "    .dataframe thead th {\n",
       "        text-align: right;\n",
       "    }\n",
       "</style>\n",
       "<table border=\"1\" class=\"dataframe\">\n",
       "  <thead>\n",
       "    <tr style=\"text-align: right;\">\n",
       "      <th></th>\n",
       "      <th>Education</th>\n",
       "      <th>JoiningYear</th>\n",
       "      <th>City</th>\n",
       "      <th>SalaryLevel</th>\n",
       "      <th>Age</th>\n",
       "      <th>Gender</th>\n",
       "      <th>EverBenched</th>\n",
       "      <th>ExperienceInCurrentDomain</th>\n",
       "      <th>LeaveOrNot</th>\n",
       "    </tr>\n",
       "  </thead>\n",
       "  <tbody>\n",
       "    <tr>\n",
       "      <th>0</th>\n",
       "      <td>1</td>\n",
       "      <td>2017</td>\n",
       "      <td>Bangalore</td>\n",
       "      <td>0</td>\n",
       "      <td>34</td>\n",
       "      <td>Male</td>\n",
       "      <td>No</td>\n",
       "      <td>0</td>\n",
       "      <td>0</td>\n",
       "    </tr>\n",
       "    <tr>\n",
       "      <th>1</th>\n",
       "      <td>1</td>\n",
       "      <td>2013</td>\n",
       "      <td>Pune</td>\n",
       "      <td>2</td>\n",
       "      <td>28</td>\n",
       "      <td>Female</td>\n",
       "      <td>No</td>\n",
       "      <td>3</td>\n",
       "      <td>1</td>\n",
       "    </tr>\n",
       "    <tr>\n",
       "      <th>2</th>\n",
       "      <td>1</td>\n",
       "      <td>2014</td>\n",
       "      <td>New Delhi</td>\n",
       "      <td>0</td>\n",
       "      <td>38</td>\n",
       "      <td>Female</td>\n",
       "      <td>No</td>\n",
       "      <td>2</td>\n",
       "      <td>0</td>\n",
       "    </tr>\n",
       "    <tr>\n",
       "      <th>3</th>\n",
       "      <td>2</td>\n",
       "      <td>2016</td>\n",
       "      <td>Bangalore</td>\n",
       "      <td>0</td>\n",
       "      <td>27</td>\n",
       "      <td>Male</td>\n",
       "      <td>No</td>\n",
       "      <td>5</td>\n",
       "      <td>1</td>\n",
       "    </tr>\n",
       "    <tr>\n",
       "      <th>4</th>\n",
       "      <td>2</td>\n",
       "      <td>2017</td>\n",
       "      <td>Pune</td>\n",
       "      <td>0</td>\n",
       "      <td>24</td>\n",
       "      <td>Male</td>\n",
       "      <td>Yes</td>\n",
       "      <td>2</td>\n",
       "      <td>1</td>\n",
       "    </tr>\n",
       "    <tr>\n",
       "      <th>...</th>\n",
       "      <td>...</td>\n",
       "      <td>...</td>\n",
       "      <td>...</td>\n",
       "      <td>...</td>\n",
       "      <td>...</td>\n",
       "      <td>...</td>\n",
       "      <td>...</td>\n",
       "      <td>...</td>\n",
       "      <td>...</td>\n",
       "    </tr>\n",
       "    <tr>\n",
       "      <th>4648</th>\n",
       "      <td>1</td>\n",
       "      <td>2013</td>\n",
       "      <td>Bangalore</td>\n",
       "      <td>0</td>\n",
       "      <td>26</td>\n",
       "      <td>Female</td>\n",
       "      <td>No</td>\n",
       "      <td>4</td>\n",
       "      <td>0</td>\n",
       "    </tr>\n",
       "    <tr>\n",
       "      <th>4649</th>\n",
       "      <td>2</td>\n",
       "      <td>2013</td>\n",
       "      <td>Pune</td>\n",
       "      <td>1</td>\n",
       "      <td>37</td>\n",
       "      <td>Male</td>\n",
       "      <td>No</td>\n",
       "      <td>2</td>\n",
       "      <td>1</td>\n",
       "    </tr>\n",
       "    <tr>\n",
       "      <th>4650</th>\n",
       "      <td>2</td>\n",
       "      <td>2018</td>\n",
       "      <td>New Delhi</td>\n",
       "      <td>0</td>\n",
       "      <td>27</td>\n",
       "      <td>Male</td>\n",
       "      <td>No</td>\n",
       "      <td>5</td>\n",
       "      <td>1</td>\n",
       "    </tr>\n",
       "    <tr>\n",
       "      <th>4651</th>\n",
       "      <td>1</td>\n",
       "      <td>2012</td>\n",
       "      <td>Bangalore</td>\n",
       "      <td>0</td>\n",
       "      <td>30</td>\n",
       "      <td>Male</td>\n",
       "      <td>Yes</td>\n",
       "      <td>2</td>\n",
       "      <td>0</td>\n",
       "    </tr>\n",
       "    <tr>\n",
       "      <th>4652</th>\n",
       "      <td>1</td>\n",
       "      <td>2015</td>\n",
       "      <td>Bangalore</td>\n",
       "      <td>0</td>\n",
       "      <td>33</td>\n",
       "      <td>Male</td>\n",
       "      <td>Yes</td>\n",
       "      <td>4</td>\n",
       "      <td>0</td>\n",
       "    </tr>\n",
       "  </tbody>\n",
       "</table>\n",
       "<p>4653 rows × 9 columns</p>\n",
       "</div>"
      ],
      "text/plain": [
       "      Education  JoiningYear       City  SalaryLevel  Age  Gender EverBenched  \\\n",
       "0             1         2017  Bangalore            0   34    Male          No   \n",
       "1             1         2013       Pune            2   28  Female          No   \n",
       "2             1         2014  New Delhi            0   38  Female          No   \n",
       "3             2         2016  Bangalore            0   27    Male          No   \n",
       "4             2         2017       Pune            0   24    Male         Yes   \n",
       "...         ...          ...        ...          ...  ...     ...         ...   \n",
       "4648          1         2013  Bangalore            0   26  Female          No   \n",
       "4649          2         2013       Pune            1   37    Male          No   \n",
       "4650          2         2018  New Delhi            0   27    Male          No   \n",
       "4651          1         2012  Bangalore            0   30    Male         Yes   \n",
       "4652          1         2015  Bangalore            0   33    Male         Yes   \n",
       "\n",
       "      ExperienceInCurrentDomain  LeaveOrNot  \n",
       "0                             0           0  \n",
       "1                             3           1  \n",
       "2                             2           0  \n",
       "3                             5           1  \n",
       "4                             2           1  \n",
       "...                         ...         ...  \n",
       "4648                          4           0  \n",
       "4649                          2           1  \n",
       "4650                          5           1  \n",
       "4651                          2           0  \n",
       "4652                          4           0  \n",
       "\n",
       "[4653 rows x 9 columns]"
      ]
     },
     "execution_count": 14,
     "metadata": {},
     "output_type": "execute_result"
    }
   ],
   "source": [
    "df_employees.replace({'Education': {'Bachelors': 1, 'Masters': 2, 'PHD': 3}}, inplace=True)\n",
    "df_employees[\"PaymentTier\"]=3- df_employees[\"PaymentTier\"]\n",
    "df_employees.rename(columns = {'PaymentTier':'SalaryLevel'}, inplace = True)\n",
    "df_employees[\"SalaryLevel\"]=df_employees[\"SalaryLevel\"].astype(int)\n",
    "df_employees"
   ]
  },
  {
   "cell_type": "markdown",
   "id": "0ff97719",
   "metadata": {},
   "source": [
    "After those changes, it would be easier to see tendencies via plots."
   ]
  },
  {
   "cell_type": "markdown",
   "id": "4f220393",
   "metadata": {},
   "source": [
    "Now, we would like to separate the data to personal information and proffessional information.\n",
    "<br>\n",
    "In addition, we seperated the Observations to males and females.\n",
    "<br><br>\n",
    "We don't know right know if those datas will help us, but we thought it's a good thing to have for thew start"
   ]
  },
  {
   "cell_type": "code",
   "execution_count": 15,
   "id": "d05c07b6",
   "metadata": {},
   "outputs": [
    {
     "data": {
      "text/html": [
       "<div>\n",
       "<style scoped>\n",
       "    .dataframe tbody tr th:only-of-type {\n",
       "        vertical-align: middle;\n",
       "    }\n",
       "\n",
       "    .dataframe tbody tr th {\n",
       "        vertical-align: top;\n",
       "    }\n",
       "\n",
       "    .dataframe thead th {\n",
       "        text-align: right;\n",
       "    }\n",
       "</style>\n",
       "<table border=\"1\" class=\"dataframe\">\n",
       "  <thead>\n",
       "    <tr style=\"text-align: right;\">\n",
       "      <th></th>\n",
       "      <th>Education</th>\n",
       "      <th>City</th>\n",
       "      <th>Age</th>\n",
       "      <th>Gender</th>\n",
       "    </tr>\n",
       "  </thead>\n",
       "  <tbody>\n",
       "    <tr>\n",
       "      <th>0</th>\n",
       "      <td>1</td>\n",
       "      <td>Bangalore</td>\n",
       "      <td>34</td>\n",
       "      <td>Male</td>\n",
       "    </tr>\n",
       "    <tr>\n",
       "      <th>1</th>\n",
       "      <td>1</td>\n",
       "      <td>Pune</td>\n",
       "      <td>28</td>\n",
       "      <td>Female</td>\n",
       "    </tr>\n",
       "    <tr>\n",
       "      <th>2</th>\n",
       "      <td>1</td>\n",
       "      <td>New Delhi</td>\n",
       "      <td>38</td>\n",
       "      <td>Female</td>\n",
       "    </tr>\n",
       "    <tr>\n",
       "      <th>3</th>\n",
       "      <td>2</td>\n",
       "      <td>Bangalore</td>\n",
       "      <td>27</td>\n",
       "      <td>Male</td>\n",
       "    </tr>\n",
       "    <tr>\n",
       "      <th>4</th>\n",
       "      <td>2</td>\n",
       "      <td>Pune</td>\n",
       "      <td>24</td>\n",
       "      <td>Male</td>\n",
       "    </tr>\n",
       "    <tr>\n",
       "      <th>...</th>\n",
       "      <td>...</td>\n",
       "      <td>...</td>\n",
       "      <td>...</td>\n",
       "      <td>...</td>\n",
       "    </tr>\n",
       "    <tr>\n",
       "      <th>4648</th>\n",
       "      <td>1</td>\n",
       "      <td>Bangalore</td>\n",
       "      <td>26</td>\n",
       "      <td>Female</td>\n",
       "    </tr>\n",
       "    <tr>\n",
       "      <th>4649</th>\n",
       "      <td>2</td>\n",
       "      <td>Pune</td>\n",
       "      <td>37</td>\n",
       "      <td>Male</td>\n",
       "    </tr>\n",
       "    <tr>\n",
       "      <th>4650</th>\n",
       "      <td>2</td>\n",
       "      <td>New Delhi</td>\n",
       "      <td>27</td>\n",
       "      <td>Male</td>\n",
       "    </tr>\n",
       "    <tr>\n",
       "      <th>4651</th>\n",
       "      <td>1</td>\n",
       "      <td>Bangalore</td>\n",
       "      <td>30</td>\n",
       "      <td>Male</td>\n",
       "    </tr>\n",
       "    <tr>\n",
       "      <th>4652</th>\n",
       "      <td>1</td>\n",
       "      <td>Bangalore</td>\n",
       "      <td>33</td>\n",
       "      <td>Male</td>\n",
       "    </tr>\n",
       "  </tbody>\n",
       "</table>\n",
       "<p>4653 rows × 4 columns</p>\n",
       "</div>"
      ],
      "text/plain": [
       "      Education       City  Age  Gender\n",
       "0             1  Bangalore   34    Male\n",
       "1             1       Pune   28  Female\n",
       "2             1  New Delhi   38  Female\n",
       "3             2  Bangalore   27    Male\n",
       "4             2       Pune   24    Male\n",
       "...         ...        ...  ...     ...\n",
       "4648          1  Bangalore   26  Female\n",
       "4649          2       Pune   37    Male\n",
       "4650          2  New Delhi   27    Male\n",
       "4651          1  Bangalore   30    Male\n",
       "4652          1  Bangalore   33    Male\n",
       "\n",
       "[4653 rows x 4 columns]"
      ]
     },
     "execution_count": 15,
     "metadata": {},
     "output_type": "execute_result"
    }
   ],
   "source": [
    "df_personal_info=df_employees[[\"Education\", \"City\", \"Age\", \"Gender\"]] #personal information\n",
    "df_pro_info=df_employees[[\"JoiningYear\", \"SalaryLevel\", \"EverBenched\", \"ExperienceInCurrentDomain\"]] #proffessional information\n",
    "df_personal_info"
   ]
  },
  {
   "cell_type": "code",
   "execution_count": 16,
   "id": "3df74d1e",
   "metadata": {},
   "outputs": [
    {
     "data": {
      "text/html": [
       "<div>\n",
       "<style scoped>\n",
       "    .dataframe tbody tr th:only-of-type {\n",
       "        vertical-align: middle;\n",
       "    }\n",
       "\n",
       "    .dataframe tbody tr th {\n",
       "        vertical-align: top;\n",
       "    }\n",
       "\n",
       "    .dataframe thead th {\n",
       "        text-align: right;\n",
       "    }\n",
       "</style>\n",
       "<table border=\"1\" class=\"dataframe\">\n",
       "  <thead>\n",
       "    <tr style=\"text-align: right;\">\n",
       "      <th></th>\n",
       "      <th>Education</th>\n",
       "      <th>JoiningYear</th>\n",
       "      <th>City</th>\n",
       "      <th>SalaryLevel</th>\n",
       "      <th>Age</th>\n",
       "      <th>Gender</th>\n",
       "      <th>EverBenched</th>\n",
       "      <th>ExperienceInCurrentDomain</th>\n",
       "      <th>LeaveOrNot</th>\n",
       "    </tr>\n",
       "  </thead>\n",
       "  <tbody>\n",
       "    <tr>\n",
       "      <th>0</th>\n",
       "      <td>1</td>\n",
       "      <td>2017</td>\n",
       "      <td>Bangalore</td>\n",
       "      <td>0</td>\n",
       "      <td>34</td>\n",
       "      <td>Male</td>\n",
       "      <td>No</td>\n",
       "      <td>0</td>\n",
       "      <td>0</td>\n",
       "    </tr>\n",
       "    <tr>\n",
       "      <th>3</th>\n",
       "      <td>2</td>\n",
       "      <td>2016</td>\n",
       "      <td>Bangalore</td>\n",
       "      <td>0</td>\n",
       "      <td>27</td>\n",
       "      <td>Male</td>\n",
       "      <td>No</td>\n",
       "      <td>5</td>\n",
       "      <td>1</td>\n",
       "    </tr>\n",
       "    <tr>\n",
       "      <th>4</th>\n",
       "      <td>2</td>\n",
       "      <td>2017</td>\n",
       "      <td>Pune</td>\n",
       "      <td>0</td>\n",
       "      <td>24</td>\n",
       "      <td>Male</td>\n",
       "      <td>Yes</td>\n",
       "      <td>2</td>\n",
       "      <td>1</td>\n",
       "    </tr>\n",
       "    <tr>\n",
       "      <th>5</th>\n",
       "      <td>1</td>\n",
       "      <td>2016</td>\n",
       "      <td>Bangalore</td>\n",
       "      <td>0</td>\n",
       "      <td>22</td>\n",
       "      <td>Male</td>\n",
       "      <td>No</td>\n",
       "      <td>0</td>\n",
       "      <td>0</td>\n",
       "    </tr>\n",
       "    <tr>\n",
       "      <th>6</th>\n",
       "      <td>1</td>\n",
       "      <td>2015</td>\n",
       "      <td>New Delhi</td>\n",
       "      <td>0</td>\n",
       "      <td>38</td>\n",
       "      <td>Male</td>\n",
       "      <td>No</td>\n",
       "      <td>0</td>\n",
       "      <td>0</td>\n",
       "    </tr>\n",
       "    <tr>\n",
       "      <th>...</th>\n",
       "      <td>...</td>\n",
       "      <td>...</td>\n",
       "      <td>...</td>\n",
       "      <td>...</td>\n",
       "      <td>...</td>\n",
       "      <td>...</td>\n",
       "      <td>...</td>\n",
       "      <td>...</td>\n",
       "      <td>...</td>\n",
       "    </tr>\n",
       "    <tr>\n",
       "      <th>4647</th>\n",
       "      <td>1</td>\n",
       "      <td>2016</td>\n",
       "      <td>Pune</td>\n",
       "      <td>0</td>\n",
       "      <td>30</td>\n",
       "      <td>Male</td>\n",
       "      <td>No</td>\n",
       "      <td>2</td>\n",
       "      <td>0</td>\n",
       "    </tr>\n",
       "    <tr>\n",
       "      <th>4649</th>\n",
       "      <td>2</td>\n",
       "      <td>2013</td>\n",
       "      <td>Pune</td>\n",
       "      <td>1</td>\n",
       "      <td>37</td>\n",
       "      <td>Male</td>\n",
       "      <td>No</td>\n",
       "      <td>2</td>\n",
       "      <td>1</td>\n",
       "    </tr>\n",
       "    <tr>\n",
       "      <th>4650</th>\n",
       "      <td>2</td>\n",
       "      <td>2018</td>\n",
       "      <td>New Delhi</td>\n",
       "      <td>0</td>\n",
       "      <td>27</td>\n",
       "      <td>Male</td>\n",
       "      <td>No</td>\n",
       "      <td>5</td>\n",
       "      <td>1</td>\n",
       "    </tr>\n",
       "    <tr>\n",
       "      <th>4651</th>\n",
       "      <td>1</td>\n",
       "      <td>2012</td>\n",
       "      <td>Bangalore</td>\n",
       "      <td>0</td>\n",
       "      <td>30</td>\n",
       "      <td>Male</td>\n",
       "      <td>Yes</td>\n",
       "      <td>2</td>\n",
       "      <td>0</td>\n",
       "    </tr>\n",
       "    <tr>\n",
       "      <th>4652</th>\n",
       "      <td>1</td>\n",
       "      <td>2015</td>\n",
       "      <td>Bangalore</td>\n",
       "      <td>0</td>\n",
       "      <td>33</td>\n",
       "      <td>Male</td>\n",
       "      <td>Yes</td>\n",
       "      <td>4</td>\n",
       "      <td>0</td>\n",
       "    </tr>\n",
       "  </tbody>\n",
       "</table>\n",
       "<p>2778 rows × 9 columns</p>\n",
       "</div>"
      ],
      "text/plain": [
       "      Education  JoiningYear       City  SalaryLevel  Age Gender EverBenched  \\\n",
       "0             1         2017  Bangalore            0   34   Male          No   \n",
       "3             2         2016  Bangalore            0   27   Male          No   \n",
       "4             2         2017       Pune            0   24   Male         Yes   \n",
       "5             1         2016  Bangalore            0   22   Male          No   \n",
       "6             1         2015  New Delhi            0   38   Male          No   \n",
       "...         ...          ...        ...          ...  ...    ...         ...   \n",
       "4647          1         2016       Pune            0   30   Male          No   \n",
       "4649          2         2013       Pune            1   37   Male          No   \n",
       "4650          2         2018  New Delhi            0   27   Male          No   \n",
       "4651          1         2012  Bangalore            0   30   Male         Yes   \n",
       "4652          1         2015  Bangalore            0   33   Male         Yes   \n",
       "\n",
       "      ExperienceInCurrentDomain  LeaveOrNot  \n",
       "0                             0           0  \n",
       "3                             5           1  \n",
       "4                             2           1  \n",
       "5                             0           0  \n",
       "6                             0           0  \n",
       "...                         ...         ...  \n",
       "4647                          2           0  \n",
       "4649                          2           1  \n",
       "4650                          5           1  \n",
       "4651                          2           0  \n",
       "4652                          4           0  \n",
       "\n",
       "[2778 rows x 9 columns]"
      ]
     },
     "execution_count": 16,
     "metadata": {},
     "output_type": "execute_result"
    }
   ],
   "source": [
    "df_males= df_employees.loc[df_employees[\"Gender\"] == \"Male\"]\n",
    "df_females= df_employees.loc[df_employees[\"Gender\"] == \"Female\"]\n",
    "df_males"
   ]
  },
  {
   "cell_type": "code",
   "execution_count": 17,
   "id": "16985f84",
   "metadata": {
    "scrolled": true
   },
   "outputs": [
    {
     "data": {
      "text/html": [
       "<div>\n",
       "<style scoped>\n",
       "    .dataframe tbody tr th:only-of-type {\n",
       "        vertical-align: middle;\n",
       "    }\n",
       "\n",
       "    .dataframe tbody tr th {\n",
       "        vertical-align: top;\n",
       "    }\n",
       "\n",
       "    .dataframe thead th {\n",
       "        text-align: right;\n",
       "    }\n",
       "</style>\n",
       "<table border=\"1\" class=\"dataframe\">\n",
       "  <thead>\n",
       "    <tr style=\"text-align: right;\">\n",
       "      <th></th>\n",
       "      <th>JoiningYear</th>\n",
       "      <th>SalaryLevel</th>\n",
       "      <th>EverBenched</th>\n",
       "      <th>ExperienceInCurrentDomain</th>\n",
       "    </tr>\n",
       "  </thead>\n",
       "  <tbody>\n",
       "    <tr>\n",
       "      <th>0</th>\n",
       "      <td>2017</td>\n",
       "      <td>0</td>\n",
       "      <td>No</td>\n",
       "      <td>0</td>\n",
       "    </tr>\n",
       "    <tr>\n",
       "      <th>1</th>\n",
       "      <td>2013</td>\n",
       "      <td>2</td>\n",
       "      <td>No</td>\n",
       "      <td>3</td>\n",
       "    </tr>\n",
       "    <tr>\n",
       "      <th>2</th>\n",
       "      <td>2014</td>\n",
       "      <td>0</td>\n",
       "      <td>No</td>\n",
       "      <td>2</td>\n",
       "    </tr>\n",
       "    <tr>\n",
       "      <th>3</th>\n",
       "      <td>2016</td>\n",
       "      <td>0</td>\n",
       "      <td>No</td>\n",
       "      <td>5</td>\n",
       "    </tr>\n",
       "    <tr>\n",
       "      <th>4</th>\n",
       "      <td>2017</td>\n",
       "      <td>0</td>\n",
       "      <td>Yes</td>\n",
       "      <td>2</td>\n",
       "    </tr>\n",
       "  </tbody>\n",
       "</table>\n",
       "</div>"
      ],
      "text/plain": [
       "   JoiningYear  SalaryLevel EverBenched  ExperienceInCurrentDomain\n",
       "0         2017            0          No                          0\n",
       "1         2013            2          No                          3\n",
       "2         2014            0          No                          2\n",
       "3         2016            0          No                          5\n",
       "4         2017            0         Yes                          2"
      ]
     },
     "execution_count": 17,
     "metadata": {},
     "output_type": "execute_result"
    }
   ],
   "source": [
    "df_pro_info.head()"
   ]
  },
  {
   "cell_type": "code",
   "execution_count": 18,
   "id": "c639711f",
   "metadata": {},
   "outputs": [
    {
     "data": {
      "text/html": [
       "<div>\n",
       "<style scoped>\n",
       "    .dataframe tbody tr th:only-of-type {\n",
       "        vertical-align: middle;\n",
       "    }\n",
       "\n",
       "    .dataframe tbody tr th {\n",
       "        vertical-align: top;\n",
       "    }\n",
       "\n",
       "    .dataframe thead th {\n",
       "        text-align: right;\n",
       "    }\n",
       "</style>\n",
       "<table border=\"1\" class=\"dataframe\">\n",
       "  <thead>\n",
       "    <tr style=\"text-align: right;\">\n",
       "      <th></th>\n",
       "      <th>Education</th>\n",
       "      <th>City</th>\n",
       "      <th>Age</th>\n",
       "      <th>Gender</th>\n",
       "    </tr>\n",
       "  </thead>\n",
       "  <tbody>\n",
       "    <tr>\n",
       "      <th>0</th>\n",
       "      <td>1</td>\n",
       "      <td>Bangalore</td>\n",
       "      <td>34</td>\n",
       "      <td>Male</td>\n",
       "    </tr>\n",
       "    <tr>\n",
       "      <th>1</th>\n",
       "      <td>1</td>\n",
       "      <td>Pune</td>\n",
       "      <td>28</td>\n",
       "      <td>Female</td>\n",
       "    </tr>\n",
       "    <tr>\n",
       "      <th>2</th>\n",
       "      <td>1</td>\n",
       "      <td>New Delhi</td>\n",
       "      <td>38</td>\n",
       "      <td>Female</td>\n",
       "    </tr>\n",
       "    <tr>\n",
       "      <th>3</th>\n",
       "      <td>2</td>\n",
       "      <td>Bangalore</td>\n",
       "      <td>27</td>\n",
       "      <td>Male</td>\n",
       "    </tr>\n",
       "    <tr>\n",
       "      <th>4</th>\n",
       "      <td>2</td>\n",
       "      <td>Pune</td>\n",
       "      <td>24</td>\n",
       "      <td>Male</td>\n",
       "    </tr>\n",
       "  </tbody>\n",
       "</table>\n",
       "</div>"
      ],
      "text/plain": [
       "   Education       City  Age  Gender\n",
       "0          1  Bangalore   34    Male\n",
       "1          1       Pune   28  Female\n",
       "2          1  New Delhi   38  Female\n",
       "3          2  Bangalore   27    Male\n",
       "4          2       Pune   24    Male"
      ]
     },
     "execution_count": 18,
     "metadata": {},
     "output_type": "execute_result"
    }
   ],
   "source": [
    "df_personal_info.head()"
   ]
  },
  {
   "cell_type": "markdown",
   "id": "89a59e46",
   "metadata": {},
   "source": [
    "Now, we can start to analyse our data"
   ]
  },
  {
   "cell_type": "markdown",
   "id": "6534ee4c",
   "metadata": {},
   "source": [
    "## a. "
   ]
  },
  {
   "cell_type": "markdown",
   "id": "6385810c",
   "metadata": {},
   "source": [
    "We'll try to see if there is a difference in the company by gender:"
   ]
  },
  {
   "cell_type": "code",
   "execution_count": 19,
   "id": "03e05d1b",
   "metadata": {},
   "outputs": [
    {
     "data": {
      "text/plain": [
       "<seaborn.axisgrid.FacetGrid at 0x203fef3d3a0>"
      ]
     },
     "execution_count": 19,
     "metadata": {},
     "output_type": "execute_result"
    },
    {
     "data": {
      "image/png": "[encoded data removed]",
      "text/plain": [
       "<Figure size 360x360 with 1 Axes>"
      ]
     },
     "metadata": {
      "needs_background": "light"
     },
     "output_type": "display_data"
    }
   ],
   "source": [
    "gender_plot=sns.displot(data=df_employees, x=\"Gender\").set(title=\"Gender Proportion\")\n",
    "gender_plot"
   ]
  },
  {
   "cell_type": "markdown",
   "id": "31ebb253",
   "metadata": {},
   "source": [
    "As we can see in this graph, there are more men than women in our data, and we would be interested in searching this field of gender differences."
   ]
  },
  {
   "cell_type": "markdown",
   "id": "7b20910f",
   "metadata": {},
   "source": [
    "We'll look the the spread of the cities in our data:"
   ]
  },
  {
   "cell_type": "code",
   "execution_count": 20,
   "id": "c3ce3a8d",
   "metadata": {},
   "outputs": [
    {
     "data": {
      "image/png": "[encoded data removed]",
      "text/plain": [
       "<Figure size 432x288 with 1 Axes>"
      ]
     },
     "metadata": {},
     "output_type": "display_data"
    }
   ],
   "source": [
    "l,a=list(set(df_employees[\"City\"])),[]\n",
    "for i in range(len(l)):\n",
    "    a.append(list(df_employees[\"City\"]).count(l[i]))\n",
    "    l[i]=l[i]+ \" \"+ str(list(df_employees[\"City\"]).count(l[i])*100/len(df_employees[\"City\"]))+ \" % (\" +str(list(df_employees[\"City\"]).count(l[i]))+ \")\"\n",
    "explode = (0.1, 0.1, 0.1)\n",
    "plt.pie(a,labels=l, explode=explode)\n",
    "plt.show()"
   ]
  },
  {
   "cell_type": "markdown",
   "id": "febd56d1",
   "metadata": {},
   "source": [
    "Now let's check the distribution of experience and age:"
   ]
  },
  {
   "cell_type": "code",
   "execution_count": 21,
   "id": "058fc515",
   "metadata": {},
   "outputs": [
    {
     "data": {
      "image/png": "[encoded data removed]",
      "text/plain": [
       "<Figure size 432x288 with 1 Axes>"
      ]
     },
     "metadata": {
      "needs_background": "light"
     },
     "output_type": "display_data"
    }
   ],
   "source": [
    "sns.countplot(data=df_employees, x=\"ExperienceInCurrentDomain\").set(title=\"Employees Count Per Experience In Current Domain\");"
   ]
  },
  {
   "cell_type": "code",
   "execution_count": 22,
   "id": "703af4ee",
   "metadata": {},
   "outputs": [
    {
     "data": {
      "text/plain": [
       "<seaborn.axisgrid.FacetGrid at 0x203f989da90>"
      ]
     },
     "execution_count": 22,
     "metadata": {},
     "output_type": "execute_result"
    },
    {
     "data": {
      "image/png": "[encoded data removed]",
      "text/plain": [
       "<Figure size 360x360 with 1 Axes>"
      ]
     },
     "metadata": {
      "needs_background": "light"
     },
     "output_type": "display_data"
    }
   ],
   "source": [
    "sns.displot(data=df_employees, x=\"Age\", bins = np.arange(22,45,1)).set(title=\"Employees Age Frequency\")"
   ]
  },
  {
   "cell_type": "markdown",
   "id": "2e26ed64",
   "metadata": {},
   "source": [
    "We can see that big part of the employees are at age in the range of [24,30]"
   ]
  },
  {
   "cell_type": "markdown",
   "id": "4fd50643",
   "metadata": {},
   "source": [
    "We also want to see the distribution of benched employees agains never-benched employees"
   ]
  },
  {
   "cell_type": "code",
   "execution_count": 23,
   "id": "6e508a1a",
   "metadata": {},
   "outputs": [
    {
     "data": {
      "text/plain": [
       "<seaborn.axisgrid.FacetGrid at 0x20380189610>"
      ]
     },
     "execution_count": 23,
     "metadata": {},
     "output_type": "execute_result"
    },
    {
     "data": {
      "image/png": "[encoded data removed]",
      "text/plain": [
       "<Figure size 360x360 with 1 Axes>"
      ]
     },
     "metadata": {
      "needs_background": "light"
     },
     "output_type": "display_data"
    }
   ],
   "source": [
    "sns.displot(data=df_employees, x=\"EverBenched\").set(title=\"Benched Employees vs. Never Benched Employees\")"
   ]
  },
  {
   "cell_type": "code",
   "execution_count": 24,
   "id": "1ed1186e",
   "metadata": {},
   "outputs": [
    {
     "data": {
      "text/plain": [
       "<seaborn.axisgrid.FacetGrid at 0x2038019aa00>"
      ]
     },
     "execution_count": 24,
     "metadata": {},
     "output_type": "execute_result"
    },
    {
     "data": {
      "image/png": "[encoded data removed]",
      "text/plain": [
       "<Figure size 360x360 with 1 Axes>"
      ]
     },
     "metadata": {
      "needs_background": "light"
     },
     "output_type": "display_data"
    }
   ],
   "source": [
    "sns.displot(data=df_employees, x=\"Education\").set(title=\"Education distribution\", xticks=list(range(1,4)))"
   ]
  },
  {
   "cell_type": "markdown",
   "id": "d2151074",
   "metadata": {},
   "source": [
    "We can see that only a little group of employees were benched for more than a month.\n"
   ]
  },
  {
   "cell_type": "markdown",
   "id": "d22e42c1",
   "metadata": {},
   "source": [
    "## b."
   ]
  },
  {
   "cell_type": "markdown",
   "id": "e3b9b39b",
   "metadata": {},
   "source": [
    "We would like to see the correlation between gender and salary level average:"
   ]
  },
  {
   "cell_type": "code",
   "execution_count": 25,
   "id": "2ce5f63a",
   "metadata": {},
   "outputs": [
    {
     "data": {
      "text/html": [
       "<div>\n",
       "<style scoped>\n",
       "    .dataframe tbody tr th:only-of-type {\n",
       "        vertical-align: middle;\n",
       "    }\n",
       "\n",
       "    .dataframe tbody tr th {\n",
       "        vertical-align: top;\n",
       "    }\n",
       "\n",
       "    .dataframe thead th {\n",
       "        text-align: right;\n",
       "    }\n",
       "</style>\n",
       "<table border=\"1\" class=\"dataframe\">\n",
       "  <thead>\n",
       "    <tr style=\"text-align: right;\">\n",
       "      <th></th>\n",
       "      <th>Gender</th>\n",
       "      <th>SalaryLevel</th>\n",
       "    </tr>\n",
       "  </thead>\n",
       "  <tbody>\n",
       "    <tr>\n",
       "      <th>0</th>\n",
       "      <td>Female</td>\n",
       "      <td>0.462400</td>\n",
       "    </tr>\n",
       "    <tr>\n",
       "      <th>1</th>\n",
       "      <td>Male</td>\n",
       "      <td>0.193305</td>\n",
       "    </tr>\n",
       "  </tbody>\n",
       "</table>\n",
       "</div>"
      ],
      "text/plain": [
       "   Gender  SalaryLevel\n",
       "0  Female     0.462400\n",
       "1    Male     0.193305"
      ]
     },
     "execution_count": 25,
     "metadata": {},
     "output_type": "execute_result"
    }
   ],
   "source": [
    "payment_mean_by_gender = df_employees.groupby('Gender' ,as_index=False)['SalaryLevel'].mean()\n",
    "payment_mean_by_gender\n"
   ]
  },
  {
   "cell_type": "code",
   "execution_count": 26,
   "id": "890f3c66",
   "metadata": {},
   "outputs": [
    {
     "data": {
      "text/plain": [
       "<seaborn.axisgrid.FacetGrid at 0x203801d4940>"
      ]
     },
     "execution_count": 26,
     "metadata": {},
     "output_type": "execute_result"
    },
    {
     "data": {
      "image/png": "[encoded data removed]",
      "text/plain": [
       "<Figure size 360x504 with 1 Axes>"
      ]
     },
     "metadata": {
      "needs_background": "light"
     },
     "output_type": "display_data"
    }
   ],
   "source": [
    "facetgrid_obj = sns.catplot(kind='bar', data=payment_mean_by_gender, x='Gender', y='SalaryLevel')\n",
    "facetgrid_obj.set_xticklabels(rotation=45)\n",
    "facetgrid_obj.fig.suptitle('Salary Level Average By Gender')\n",
    "facetgrid_obj.set(xlabel='Gender', ylabel='Salary Level Average')\n",
    "#facetgrid_obj\n",
    "facetgrid_obj.fig.set_size_inches(5, 7)\n",
    "facetgrid_obj.set(ylim=(0,1.5))"
   ]
  },
  {
   "cell_type": "markdown",
   "id": "f78609cf",
   "metadata": {},
   "source": [
    "We see that the average salary level is much higher for women.\n",
    "<br>\n",
    "Yet, we cant conclude anything about individuals salary or the gender's actual salary mean, since salary level is a categorial variable, and it doesn't tell us more than that.\n",
    "<br>\n",
    "However, since the male's average salary level is around 0.2, we may assume that a big part of the men in the company get a salary level 0. And as for women, although it looks like they receive much higher salary compared to men, the average salary level is only 0.5.\n",
    "<br><br>\n",
    "We insisted to set the y-axis limits to be [0,1.5] so we can both see the difference, and also to see that both values are relatively low."
   ]
  },
  {
   "cell_type": "markdown",
   "id": "bb6b1d29",
   "metadata": {},
   "source": [
    "We also want to check the average of salary level among the different education degrees:"
   ]
  },
  {
   "cell_type": "code",
   "execution_count": 27,
   "id": "42736527",
   "metadata": {},
   "outputs": [
    {
     "data": {
      "image/png": "[encoded data removed]",
      "text/plain": [
       "<Figure size 360x504 with 1 Axes>"
      ]
     },
     "metadata": {
      "needs_background": "light"
     },
     "output_type": "display_data"
    }
   ],
   "source": [
    "leave_by_education = df_employees.groupby('Education' ,as_index=False)['LeaveOrNot'].sum()\n",
    "leave_by_education\n",
    "facetgrid_obj = sns.catplot(kind='bar', data=leave_by_education, x='Education', y='LeaveOrNot')\n",
    "facetgrid_obj.fig.suptitle('Leaving Employees Amount By Education')\n",
    "facetgrid_obj.set(xlabel='Education', ylabel='Leaving employees amount')\n",
    "facetgrid_obj.fig.set_size_inches(5, 7)\n",
    "#facetgrid_obj.set(ylim=(0,0.6))"
   ]
  },
  {
   "cell_type": "markdown",
   "id": "d9c49156",
   "metadata": {},
   "source": [
    "We see that there is a negative correlation between the 2 variables"
   ]
  },
  {
   "cell_type": "markdown",
   "id": "c8179e16",
   "metadata": {},
   "source": [
    "For last, we tested the leaving ratio among each gender:"
   ]
  },
  {
   "cell_type": "code",
   "execution_count": 28,
   "id": "b987bfe0",
   "metadata": {},
   "outputs": [
    {
     "data": {
      "image/png": "[encoded data removed]",
      "text/plain": [
       "<Figure size 432x288 with 1 Axes>"
      ]
     },
     "metadata": {
      "needs_background": "light"
     },
     "output_type": "display_data"
    }
   ],
   "source": [
    "sns.countplot(data = df_employees ,x='LeaveOrNot',hue='Gender');"
   ]
  },
  {
   "cell_type": "markdown",
   "id": "ffa99bc2",
   "metadata": {},
   "source": [
    "# 3. Estimation and hypothesis testing"
   ]
  },
  {
   "cell_type": "markdown",
   "id": "c8ac3dcc",
   "metadata": {},
   "source": [
    "We would like to explore the possibility of Inequality on the basis of gender. \n",
    "\n",
    "We know that women are 48% of the population in india, so we want to run simulations that will test wether the company takes the gender as a consideration. We will take the women percetage within the company workers, and will check the p-value of the women percentage, under the assumption that the proportion of woman in the company is similiar to the one in all india.\n",
    "\n",
    "We wanted to explore that question, because we think this is a very important subject that we care about a lot.\n",
    "\n",
    "H0-The proportion of employment of woman corresnpond to the proportion of women in the country.\n",
    "\n",
    "H1- The proportion of employment of woman is lower than the proportion of women in the country\n"
   ]
  },
  {
   "cell_type": "code",
   "execution_count": 29,
   "id": "deb5e479",
   "metadata": {},
   "outputs": [
    {
     "data": {
      "text/plain": [
       "Male      2778\n",
       "Female    1875\n",
       "Name: Gender, dtype: int64"
      ]
     },
     "execution_count": 29,
     "metadata": {},
     "output_type": "execute_result"
    }
   ],
   "source": [
    "real_population = 0.48\n",
    "df_employees[\"Gender\"].value_counts()"
   ]
  },
  {
   "cell_type": "code",
   "execution_count": 30,
   "id": "79bd60a7",
   "metadata": {},
   "outputs": [],
   "source": [
    "employees_num=4653\n",
    "women_prop_in_data=1875/employees_num"
   ]
  },
  {
   "cell_type": "code",
   "execution_count": 31,
   "id": "6d4b8215",
   "metadata": {},
   "outputs": [
    {
     "data": {
      "image/png": "[encoded data removed]",
      "text/plain": [
       "<Figure size 720x504 with 1 Axes>"
      ]
     },
     "metadata": {
      "needs_background": "light"
     },
     "output_type": "display_data"
    }
   ],
   "source": [
    "gender = ['man', 'woman'] # possible genders\n",
    "prob_for_gender = [0.52, 0.48] # probabilities GIVEN THE MODEL IS TRUE\n",
    "sample_size = employees_num # number of sampled\n",
    "number_of_women_from_real_data = 1875 # Number of women in our observation\n",
    "\n",
    "# simulate one value\n",
    "def prob_woman(): #simulates a 4653-legth vector (as the company's employees number)\n",
    "    sample_shows = np.random.choice(gender, p=prob_for_gender, size=sample_size)\n",
    "    num_women = np.count_nonzero(sample_shows == 'woman')\n",
    "    return num_women/sample_size #winning chance\n",
    "\n",
    "# run 20000 simulations\n",
    "num_repetitions = 20000\n",
    "many_prob_woman = np.empty(num_repetitions) # collection array\n",
    "for i in range(num_repetitions):\n",
    "    many_prob_woman[i] = prob_woman()\n",
    "\n",
    "# plot the empirical distribution of the statistic\n",
    "facetgrid_obj = sns.displot(many_prob_woman, bins=np.unique(many_prob_woman), stat='probability')\n",
    "facetgrid_obj.fig.set_size_inches(10, 7)\n",
    "facetgrid_obj.set(title='Distribution of simulation results assuming the model is true', xlabel=f'Proportion of samples', ylabel='Proportion for women in simulations')\n",
    "\n",
    "prob_win_in_data = 1875/employees_num \n",
    "facetgrid_obj.axes[0, 0].scatter(prob_win_in_data, 0, s=150, color='red')  # draw observed value\n",
    "facetgrid_obj.axes[0, 0].legend(['Women percentage in the company']);"
   ]
  },
  {
   "cell_type": "code",
   "execution_count": 32,
   "id": "05fc62d3",
   "metadata": {},
   "outputs": [
    {
     "name": "stdout",
     "output_type": "stream",
     "text": [
      "The p-value is 0.0\n"
     ]
    }
   ],
   "source": [
    "num_simulations_like_data_or_more_extreme = np.count_nonzero(many_prob_woman <= prob_win_in_data) \n",
    "print (f'The p-value is {num_simulations_like_data_or_more_extreme/num_repetitions}')"
   ]
  },
  {
   "cell_type": "markdown",
   "id": "41dbbe38",
   "metadata": {},
   "source": [
    "We got p<0.05, which means that the observed case (the red point) is part of the 5% tail of the empirical distribution. Therefore, assuming significance level of 0.05 (and even less), we will reject the null hypothesis. That is, we can reject the hypothesis that the women part in the company doesn't compatible with their part in India's population- a thing that may be caused by a discrimination, but we can know for sure."
   ]
  },
  {
   "cell_type": "markdown",
   "id": "66ca2bab",
   "metadata": {},
   "source": [
    "# 4. Prediction or Clustering"
   ]
  },
  {
   "cell_type": "markdown",
   "id": "5fe1e8c4",
   "metadata": {},
   "source": [
    "We would like to explore the subject of benching, and try to predict whether future candidate would benched.\n",
    "<br>\n",
    "In order to test it and to be able to compare it to a candidate, we would take only the personal information of the employees, since the proffessional data could be irrelevant or invalid"
   ]
  },
  {
   "cell_type": "code",
   "execution_count": 33,
   "id": "80df2e15",
   "metadata": {},
   "outputs": [
    {
     "data": {
      "text/html": [
       "<div>\n",
       "<style scoped>\n",
       "    .dataframe tbody tr th:only-of-type {\n",
       "        vertical-align: middle;\n",
       "    }\n",
       "\n",
       "    .dataframe tbody tr th {\n",
       "        vertical-align: top;\n",
       "    }\n",
       "\n",
       "    .dataframe thead th {\n",
       "        text-align: right;\n",
       "    }\n",
       "</style>\n",
       "<table border=\"1\" class=\"dataframe\">\n",
       "  <thead>\n",
       "    <tr style=\"text-align: right;\">\n",
       "      <th></th>\n",
       "      <th>Education</th>\n",
       "      <th>JoiningYear</th>\n",
       "      <th>SalaryLevel</th>\n",
       "      <th>Age</th>\n",
       "      <th>ExperienceInCurrentDomain</th>\n",
       "      <th>LeaveOrNot</th>\n",
       "      <th>Gender_Male</th>\n",
       "      <th>EverBenched_Yes</th>\n",
       "      <th>City_New Delhi</th>\n",
       "      <th>City_Pune</th>\n",
       "    </tr>\n",
       "  </thead>\n",
       "  <tbody>\n",
       "    <tr>\n",
       "      <th>0</th>\n",
       "      <td>1</td>\n",
       "      <td>2017</td>\n",
       "      <td>0</td>\n",
       "      <td>34</td>\n",
       "      <td>0</td>\n",
       "      <td>0</td>\n",
       "      <td>1</td>\n",
       "      <td>0</td>\n",
       "      <td>0</td>\n",
       "      <td>0</td>\n",
       "    </tr>\n",
       "    <tr>\n",
       "      <th>1</th>\n",
       "      <td>1</td>\n",
       "      <td>2013</td>\n",
       "      <td>2</td>\n",
       "      <td>28</td>\n",
       "      <td>3</td>\n",
       "      <td>1</td>\n",
       "      <td>0</td>\n",
       "      <td>0</td>\n",
       "      <td>0</td>\n",
       "      <td>1</td>\n",
       "    </tr>\n",
       "    <tr>\n",
       "      <th>2</th>\n",
       "      <td>1</td>\n",
       "      <td>2014</td>\n",
       "      <td>0</td>\n",
       "      <td>38</td>\n",
       "      <td>2</td>\n",
       "      <td>0</td>\n",
       "      <td>0</td>\n",
       "      <td>0</td>\n",
       "      <td>1</td>\n",
       "      <td>0</td>\n",
       "    </tr>\n",
       "    <tr>\n",
       "      <th>3</th>\n",
       "      <td>2</td>\n",
       "      <td>2016</td>\n",
       "      <td>0</td>\n",
       "      <td>27</td>\n",
       "      <td>5</td>\n",
       "      <td>1</td>\n",
       "      <td>1</td>\n",
       "      <td>0</td>\n",
       "      <td>0</td>\n",
       "      <td>0</td>\n",
       "    </tr>\n",
       "    <tr>\n",
       "      <th>4</th>\n",
       "      <td>2</td>\n",
       "      <td>2017</td>\n",
       "      <td>0</td>\n",
       "      <td>24</td>\n",
       "      <td>2</td>\n",
       "      <td>1</td>\n",
       "      <td>1</td>\n",
       "      <td>1</td>\n",
       "      <td>0</td>\n",
       "      <td>1</td>\n",
       "    </tr>\n",
       "    <tr>\n",
       "      <th>...</th>\n",
       "      <td>...</td>\n",
       "      <td>...</td>\n",
       "      <td>...</td>\n",
       "      <td>...</td>\n",
       "      <td>...</td>\n",
       "      <td>...</td>\n",
       "      <td>...</td>\n",
       "      <td>...</td>\n",
       "      <td>...</td>\n",
       "      <td>...</td>\n",
       "    </tr>\n",
       "    <tr>\n",
       "      <th>4648</th>\n",
       "      <td>1</td>\n",
       "      <td>2013</td>\n",
       "      <td>0</td>\n",
       "      <td>26</td>\n",
       "      <td>4</td>\n",
       "      <td>0</td>\n",
       "      <td>0</td>\n",
       "      <td>0</td>\n",
       "      <td>0</td>\n",
       "      <td>0</td>\n",
       "    </tr>\n",
       "    <tr>\n",
       "      <th>4649</th>\n",
       "      <td>2</td>\n",
       "      <td>2013</td>\n",
       "      <td>1</td>\n",
       "      <td>37</td>\n",
       "      <td>2</td>\n",
       "      <td>1</td>\n",
       "      <td>1</td>\n",
       "      <td>0</td>\n",
       "      <td>0</td>\n",
       "      <td>1</td>\n",
       "    </tr>\n",
       "    <tr>\n",
       "      <th>4650</th>\n",
       "      <td>2</td>\n",
       "      <td>2018</td>\n",
       "      <td>0</td>\n",
       "      <td>27</td>\n",
       "      <td>5</td>\n",
       "      <td>1</td>\n",
       "      <td>1</td>\n",
       "      <td>0</td>\n",
       "      <td>1</td>\n",
       "      <td>0</td>\n",
       "    </tr>\n",
       "    <tr>\n",
       "      <th>4651</th>\n",
       "      <td>1</td>\n",
       "      <td>2012</td>\n",
       "      <td>0</td>\n",
       "      <td>30</td>\n",
       "      <td>2</td>\n",
       "      <td>0</td>\n",
       "      <td>1</td>\n",
       "      <td>1</td>\n",
       "      <td>0</td>\n",
       "      <td>0</td>\n",
       "    </tr>\n",
       "    <tr>\n",
       "      <th>4652</th>\n",
       "      <td>1</td>\n",
       "      <td>2015</td>\n",
       "      <td>0</td>\n",
       "      <td>33</td>\n",
       "      <td>4</td>\n",
       "      <td>0</td>\n",
       "      <td>1</td>\n",
       "      <td>1</td>\n",
       "      <td>0</td>\n",
       "      <td>0</td>\n",
       "    </tr>\n",
       "  </tbody>\n",
       "</table>\n",
       "<p>4653 rows × 10 columns</p>\n",
       "</div>"
      ],
      "text/plain": [
       "      Education  JoiningYear  SalaryLevel  Age  ExperienceInCurrentDomain  \\\n",
       "0             1         2017            0   34                          0   \n",
       "1             1         2013            2   28                          3   \n",
       "2             1         2014            0   38                          2   \n",
       "3             2         2016            0   27                          5   \n",
       "4             2         2017            0   24                          2   \n",
       "...         ...          ...          ...  ...                        ...   \n",
       "4648          1         2013            0   26                          4   \n",
       "4649          2         2013            1   37                          2   \n",
       "4650          2         2018            0   27                          5   \n",
       "4651          1         2012            0   30                          2   \n",
       "4652          1         2015            0   33                          4   \n",
       "\n",
       "      LeaveOrNot  Gender_Male  EverBenched_Yes  City_New Delhi  City_Pune  \n",
       "0              0            1                0               0          0  \n",
       "1              1            0                0               0          1  \n",
       "2              0            0                0               1          0  \n",
       "3              1            1                0               0          0  \n",
       "4              1            1                1               0          1  \n",
       "...          ...          ...              ...             ...        ...  \n",
       "4648           0            0                0               0          0  \n",
       "4649           1            1                0               0          1  \n",
       "4650           1            1                0               1          0  \n",
       "4651           0            1                1               0          0  \n",
       "4652           0            1                1               0          0  \n",
       "\n",
       "[4653 rows x 10 columns]"
      ]
     },
     "execution_count": 33,
     "metadata": {},
     "output_type": "execute_result"
    }
   ],
   "source": [
    "encoded_df = pd.get_dummies(df_employees, columns=['Gender', 'EverBenched', \"City\"], drop_first=True)\n",
    "encoded_df.replace({'Education': {'Bachelors': 1, 'Masters': 2, 'PHD': 3}}, inplace=True)\n",
    "encoded_df\n"
   ]
  },
  {
   "cell_type": "code",
   "execution_count": 34,
   "id": "c0c70345",
   "metadata": {},
   "outputs": [
    {
     "data": {
      "text/html": [
       "<div>\n",
       "<style scoped>\n",
       "    .dataframe tbody tr th:only-of-type {\n",
       "        vertical-align: middle;\n",
       "    }\n",
       "\n",
       "    .dataframe tbody tr th {\n",
       "        vertical-align: top;\n",
       "    }\n",
       "\n",
       "    .dataframe thead th {\n",
       "        text-align: right;\n",
       "    }\n",
       "</style>\n",
       "<table border=\"1\" class=\"dataframe\">\n",
       "  <thead>\n",
       "    <tr style=\"text-align: right;\">\n",
       "      <th></th>\n",
       "      <th>Education</th>\n",
       "      <th>JoiningYear</th>\n",
       "      <th>SalaryLevel</th>\n",
       "      <th>Age</th>\n",
       "      <th>ExperienceInCurrentDomain</th>\n",
       "      <th>Gender_Male</th>\n",
       "      <th>EverBenched_Yes</th>\n",
       "      <th>City_New Delhi</th>\n",
       "      <th>City_Pune</th>\n",
       "      <th>Target</th>\n",
       "    </tr>\n",
       "  </thead>\n",
       "  <tbody>\n",
       "    <tr>\n",
       "      <th>0</th>\n",
       "      <td>0.0</td>\n",
       "      <td>0.833333</td>\n",
       "      <td>0.0</td>\n",
       "      <td>0.631579</td>\n",
       "      <td>0.000000</td>\n",
       "      <td>1.0</td>\n",
       "      <td>0.0</td>\n",
       "      <td>0.0</td>\n",
       "      <td>0.0</td>\n",
       "      <td>0</td>\n",
       "    </tr>\n",
       "    <tr>\n",
       "      <th>1</th>\n",
       "      <td>0.0</td>\n",
       "      <td>0.166667</td>\n",
       "      <td>1.0</td>\n",
       "      <td>0.315789</td>\n",
       "      <td>0.428571</td>\n",
       "      <td>0.0</td>\n",
       "      <td>0.0</td>\n",
       "      <td>0.0</td>\n",
       "      <td>1.0</td>\n",
       "      <td>1</td>\n",
       "    </tr>\n",
       "    <tr>\n",
       "      <th>2</th>\n",
       "      <td>0.0</td>\n",
       "      <td>0.333333</td>\n",
       "      <td>0.0</td>\n",
       "      <td>0.842105</td>\n",
       "      <td>0.285714</td>\n",
       "      <td>0.0</td>\n",
       "      <td>0.0</td>\n",
       "      <td>1.0</td>\n",
       "      <td>0.0</td>\n",
       "      <td>0</td>\n",
       "    </tr>\n",
       "    <tr>\n",
       "      <th>3</th>\n",
       "      <td>0.5</td>\n",
       "      <td>0.666667</td>\n",
       "      <td>0.0</td>\n",
       "      <td>0.263158</td>\n",
       "      <td>0.714286</td>\n",
       "      <td>1.0</td>\n",
       "      <td>0.0</td>\n",
       "      <td>0.0</td>\n",
       "      <td>0.0</td>\n",
       "      <td>1</td>\n",
       "    </tr>\n",
       "    <tr>\n",
       "      <th>4</th>\n",
       "      <td>0.5</td>\n",
       "      <td>0.833333</td>\n",
       "      <td>0.0</td>\n",
       "      <td>0.105263</td>\n",
       "      <td>0.285714</td>\n",
       "      <td>1.0</td>\n",
       "      <td>1.0</td>\n",
       "      <td>0.0</td>\n",
       "      <td>1.0</td>\n",
       "      <td>1</td>\n",
       "    </tr>\n",
       "    <tr>\n",
       "      <th>...</th>\n",
       "      <td>...</td>\n",
       "      <td>...</td>\n",
       "      <td>...</td>\n",
       "      <td>...</td>\n",
       "      <td>...</td>\n",
       "      <td>...</td>\n",
       "      <td>...</td>\n",
       "      <td>...</td>\n",
       "      <td>...</td>\n",
       "      <td>...</td>\n",
       "    </tr>\n",
       "    <tr>\n",
       "      <th>4648</th>\n",
       "      <td>0.0</td>\n",
       "      <td>0.166667</td>\n",
       "      <td>0.0</td>\n",
       "      <td>0.210526</td>\n",
       "      <td>0.571429</td>\n",
       "      <td>0.0</td>\n",
       "      <td>0.0</td>\n",
       "      <td>0.0</td>\n",
       "      <td>0.0</td>\n",
       "      <td>0</td>\n",
       "    </tr>\n",
       "    <tr>\n",
       "      <th>4649</th>\n",
       "      <td>0.5</td>\n",
       "      <td>0.166667</td>\n",
       "      <td>0.5</td>\n",
       "      <td>0.789474</td>\n",
       "      <td>0.285714</td>\n",
       "      <td>1.0</td>\n",
       "      <td>0.0</td>\n",
       "      <td>0.0</td>\n",
       "      <td>1.0</td>\n",
       "      <td>1</td>\n",
       "    </tr>\n",
       "    <tr>\n",
       "      <th>4650</th>\n",
       "      <td>0.5</td>\n",
       "      <td>1.000000</td>\n",
       "      <td>0.0</td>\n",
       "      <td>0.263158</td>\n",
       "      <td>0.714286</td>\n",
       "      <td>1.0</td>\n",
       "      <td>0.0</td>\n",
       "      <td>1.0</td>\n",
       "      <td>0.0</td>\n",
       "      <td>1</td>\n",
       "    </tr>\n",
       "    <tr>\n",
       "      <th>4651</th>\n",
       "      <td>0.0</td>\n",
       "      <td>0.000000</td>\n",
       "      <td>0.0</td>\n",
       "      <td>0.421053</td>\n",
       "      <td>0.285714</td>\n",
       "      <td>1.0</td>\n",
       "      <td>1.0</td>\n",
       "      <td>0.0</td>\n",
       "      <td>0.0</td>\n",
       "      <td>0</td>\n",
       "    </tr>\n",
       "    <tr>\n",
       "      <th>4652</th>\n",
       "      <td>0.0</td>\n",
       "      <td>0.500000</td>\n",
       "      <td>0.0</td>\n",
       "      <td>0.578947</td>\n",
       "      <td>0.571429</td>\n",
       "      <td>1.0</td>\n",
       "      <td>1.0</td>\n",
       "      <td>0.0</td>\n",
       "      <td>0.0</td>\n",
       "      <td>0</td>\n",
       "    </tr>\n",
       "  </tbody>\n",
       "</table>\n",
       "<p>4653 rows × 10 columns</p>\n",
       "</div>"
      ],
      "text/plain": [
       "      Education  JoiningYear  SalaryLevel       Age  \\\n",
       "0           0.0     0.833333          0.0  0.631579   \n",
       "1           0.0     0.166667          1.0  0.315789   \n",
       "2           0.0     0.333333          0.0  0.842105   \n",
       "3           0.5     0.666667          0.0  0.263158   \n",
       "4           0.5     0.833333          0.0  0.105263   \n",
       "...         ...          ...          ...       ...   \n",
       "4648        0.0     0.166667          0.0  0.210526   \n",
       "4649        0.5     0.166667          0.5  0.789474   \n",
       "4650        0.5     1.000000          0.0  0.263158   \n",
       "4651        0.0     0.000000          0.0  0.421053   \n",
       "4652        0.0     0.500000          0.0  0.578947   \n",
       "\n",
       "      ExperienceInCurrentDomain  Gender_Male  EverBenched_Yes  City_New Delhi  \\\n",
       "0                      0.000000          1.0              0.0             0.0   \n",
       "1                      0.428571          0.0              0.0             0.0   \n",
       "2                      0.285714          0.0              0.0             1.0   \n",
       "3                      0.714286          1.0              0.0             0.0   \n",
       "4                      0.285714          1.0              1.0             0.0   \n",
       "...                         ...          ...              ...             ...   \n",
       "4648                   0.571429          0.0              0.0             0.0   \n",
       "4649                   0.285714          1.0              0.0             0.0   \n",
       "4650                   0.714286          1.0              0.0             1.0   \n",
       "4651                   0.285714          1.0              1.0             0.0   \n",
       "4652                   0.571429          1.0              1.0             0.0   \n",
       "\n",
       "      City_Pune  Target  \n",
       "0           0.0       0  \n",
       "1           1.0       1  \n",
       "2           0.0       0  \n",
       "3           0.0       1  \n",
       "4           1.0       1  \n",
       "...         ...     ...  \n",
       "4648        0.0       0  \n",
       "4649        1.0       1  \n",
       "4650        0.0       1  \n",
       "4651        0.0       0  \n",
       "4652        0.0       0  \n",
       "\n",
       "[4653 rows x 10 columns]"
      ]
     },
     "execution_count": 34,
     "metadata": {},
     "output_type": "execute_result"
    }
   ],
   "source": [
    "df_columns = encoded_df.columns\n",
    "scaler = MinMaxScaler()\n",
    "scaled_np_matrix = scaler.fit_transform(encoded_df)\n",
    "scaled_encoded_df = pd.DataFrame(scaled_np_matrix, columns=df_columns)\n",
    "scaled_encoded_df.insert(10, 'Target', df_employees['LeaveOrNot'])\n",
    "scaled_encoded_df.drop(columns=[\"LeaveOrNot\"], inplace=True)\n",
    "scaled_encoded_df"
   ]
  },
  {
   "cell_type": "code",
   "execution_count": 35,
   "id": "5431d5d3",
   "metadata": {},
   "outputs": [
    {
     "data": {
      "image/png": "[encoded data removed]",
      "text/plain": [
       "<Figure size 720x720 with 2 Axes>"
      ]
     },
     "metadata": {
      "needs_background": "light"
     },
     "output_type": "display_data"
    }
   ],
   "source": [
    "# plot heat map\n",
    "correlations = scaled_encoded_df.corr()\n",
    "plt.figure(figsize=(10,10))\n",
    "g=sns.heatmap(correlations,annot=True,cmap=\"RdYlGn\")"
   ]
  },
  {
   "cell_type": "markdown",
   "id": "062035aa",
   "metadata": {},
   "source": [
    "We want to delete variables with very low correlation to our target variable (LeaveOrNot)."
   ]
  },
  {
   "cell_type": "code",
   "execution_count": 36,
   "id": "243ee847",
   "metadata": {},
   "outputs": [
    {
     "data": {
      "text/html": [
       "<div>\n",
       "<style scoped>\n",
       "    .dataframe tbody tr th:only-of-type {\n",
       "        vertical-align: middle;\n",
       "    }\n",
       "\n",
       "    .dataframe tbody tr th {\n",
       "        vertical-align: top;\n",
       "    }\n",
       "\n",
       "    .dataframe thead th {\n",
       "        text-align: right;\n",
       "    }\n",
       "</style>\n",
       "<table border=\"1\" class=\"dataframe\">\n",
       "  <thead>\n",
       "    <tr style=\"text-align: right;\">\n",
       "      <th></th>\n",
       "      <th>JoiningYear</th>\n",
       "      <th>SalaryLevel</th>\n",
       "      <th>ExperienceInCurrentDomain</th>\n",
       "      <th>Gender_Male</th>\n",
       "      <th>City_New Delhi</th>\n",
       "      <th>City_Pune</th>\n",
       "      <th>Target</th>\n",
       "    </tr>\n",
       "  </thead>\n",
       "  <tbody>\n",
       "    <tr>\n",
       "      <th>0</th>\n",
       "      <td>0.833333</td>\n",
       "      <td>0.0</td>\n",
       "      <td>0.000000</td>\n",
       "      <td>1.0</td>\n",
       "      <td>0.0</td>\n",
       "      <td>0.0</td>\n",
       "      <td>0</td>\n",
       "    </tr>\n",
       "    <tr>\n",
       "      <th>1</th>\n",
       "      <td>0.166667</td>\n",
       "      <td>1.0</td>\n",
       "      <td>0.428571</td>\n",
       "      <td>0.0</td>\n",
       "      <td>0.0</td>\n",
       "      <td>1.0</td>\n",
       "      <td>1</td>\n",
       "    </tr>\n",
       "    <tr>\n",
       "      <th>2</th>\n",
       "      <td>0.333333</td>\n",
       "      <td>0.0</td>\n",
       "      <td>0.285714</td>\n",
       "      <td>0.0</td>\n",
       "      <td>1.0</td>\n",
       "      <td>0.0</td>\n",
       "      <td>0</td>\n",
       "    </tr>\n",
       "    <tr>\n",
       "      <th>3</th>\n",
       "      <td>0.666667</td>\n",
       "      <td>0.0</td>\n",
       "      <td>0.714286</td>\n",
       "      <td>1.0</td>\n",
       "      <td>0.0</td>\n",
       "      <td>0.0</td>\n",
       "      <td>1</td>\n",
       "    </tr>\n",
       "    <tr>\n",
       "      <th>4</th>\n",
       "      <td>0.833333</td>\n",
       "      <td>0.0</td>\n",
       "      <td>0.285714</td>\n",
       "      <td>1.0</td>\n",
       "      <td>0.0</td>\n",
       "      <td>1.0</td>\n",
       "      <td>1</td>\n",
       "    </tr>\n",
       "    <tr>\n",
       "      <th>...</th>\n",
       "      <td>...</td>\n",
       "      <td>...</td>\n",
       "      <td>...</td>\n",
       "      <td>...</td>\n",
       "      <td>...</td>\n",
       "      <td>...</td>\n",
       "      <td>...</td>\n",
       "    </tr>\n",
       "    <tr>\n",
       "      <th>4648</th>\n",
       "      <td>0.166667</td>\n",
       "      <td>0.0</td>\n",
       "      <td>0.571429</td>\n",
       "      <td>0.0</td>\n",
       "      <td>0.0</td>\n",
       "      <td>0.0</td>\n",
       "      <td>0</td>\n",
       "    </tr>\n",
       "    <tr>\n",
       "      <th>4649</th>\n",
       "      <td>0.166667</td>\n",
       "      <td>0.5</td>\n",
       "      <td>0.285714</td>\n",
       "      <td>1.0</td>\n",
       "      <td>0.0</td>\n",
       "      <td>1.0</td>\n",
       "      <td>1</td>\n",
       "    </tr>\n",
       "    <tr>\n",
       "      <th>4650</th>\n",
       "      <td>1.000000</td>\n",
       "      <td>0.0</td>\n",
       "      <td>0.714286</td>\n",
       "      <td>1.0</td>\n",
       "      <td>1.0</td>\n",
       "      <td>0.0</td>\n",
       "      <td>1</td>\n",
       "    </tr>\n",
       "    <tr>\n",
       "      <th>4651</th>\n",
       "      <td>0.000000</td>\n",
       "      <td>0.0</td>\n",
       "      <td>0.285714</td>\n",
       "      <td>1.0</td>\n",
       "      <td>0.0</td>\n",
       "      <td>0.0</td>\n",
       "      <td>0</td>\n",
       "    </tr>\n",
       "    <tr>\n",
       "      <th>4652</th>\n",
       "      <td>0.500000</td>\n",
       "      <td>0.0</td>\n",
       "      <td>0.571429</td>\n",
       "      <td>1.0</td>\n",
       "      <td>0.0</td>\n",
       "      <td>0.0</td>\n",
       "      <td>0</td>\n",
       "    </tr>\n",
       "  </tbody>\n",
       "</table>\n",
       "<p>4653 rows × 7 columns</p>\n",
       "</div>"
      ],
      "text/plain": [
       "      JoiningYear  SalaryLevel  ExperienceInCurrentDomain  Gender_Male  \\\n",
       "0        0.833333          0.0                   0.000000          1.0   \n",
       "1        0.166667          1.0                   0.428571          0.0   \n",
       "2        0.333333          0.0                   0.285714          0.0   \n",
       "3        0.666667          0.0                   0.714286          1.0   \n",
       "4        0.833333          0.0                   0.285714          1.0   \n",
       "...           ...          ...                        ...          ...   \n",
       "4648     0.166667          0.0                   0.571429          0.0   \n",
       "4649     0.166667          0.5                   0.285714          1.0   \n",
       "4650     1.000000          0.0                   0.714286          1.0   \n",
       "4651     0.000000          0.0                   0.285714          1.0   \n",
       "4652     0.500000          0.0                   0.571429          1.0   \n",
       "\n",
       "      City_New Delhi  City_Pune  Target  \n",
       "0                0.0        0.0       0  \n",
       "1                0.0        1.0       1  \n",
       "2                1.0        0.0       0  \n",
       "3                0.0        0.0       1  \n",
       "4                0.0        1.0       1  \n",
       "...              ...        ...     ...  \n",
       "4648             0.0        0.0       0  \n",
       "4649             0.0        1.0       1  \n",
       "4650             1.0        0.0       1  \n",
       "4651             0.0        0.0       0  \n",
       "4652             0.0        0.0       0  \n",
       "\n",
       "[4653 rows x 7 columns]"
      ]
     },
     "execution_count": 36,
     "metadata": {},
     "output_type": "execute_result"
    }
   ],
   "source": [
    "df_prediction=scaled_encoded_df.drop(columns=['Education', 'Age', 'EverBenched_Yes'], inplace=False)\n",
    "df_prediction"
   ]
  },
  {
   "cell_type": "code",
   "execution_count": 37,
   "id": "446ee2ac",
   "metadata": {},
   "outputs": [],
   "source": [
    "X = df_prediction.iloc[:, df_prediction.columns!=\"Target\"].values\n",
    "Y = df_prediction.iloc[:, -1].values"
   ]
  },
  {
   "cell_type": "code",
   "execution_count": 38,
   "id": "23a9c91a",
   "metadata": {},
   "outputs": [
    {
     "data": {
      "text/plain": [
       "array([[0.83333333, 0.        , 0.        , 1.        , 0.        ,\n",
       "        0.        ],\n",
       "       [0.16666667, 1.        , 0.42857143, 0.        , 0.        ,\n",
       "        1.        ],\n",
       "       [0.33333333, 0.        , 0.28571429, 0.        , 1.        ,\n",
       "        0.        ],\n",
       "       ...,\n",
       "       [1.        , 0.        , 0.71428571, 1.        , 1.        ,\n",
       "        0.        ],\n",
       "       [0.        , 0.        , 0.28571429, 1.        , 0.        ,\n",
       "        0.        ],\n",
       "       [0.5       , 0.        , 0.57142857, 1.        , 0.        ,\n",
       "        0.        ]])"
      ]
     },
     "execution_count": 38,
     "metadata": {},
     "output_type": "execute_result"
    }
   ],
   "source": [
    "X"
   ]
  },
  {
   "cell_type": "code",
   "execution_count": 39,
   "id": "e9079d29",
   "metadata": {},
   "outputs": [
    {
     "name": "stdout",
     "output_type": "stream",
     "text": [
      "X train set size: (3722, 6)\n",
      "X_test set size: (931, 6)\n",
      "Y_train set size: (3722,)\n",
      "Y_test set size: (931,)\n"
     ]
    }
   ],
   "source": [
    "X_train, X_test, Y_train, Y_test = train_test_split(X, Y, test_size=0.20)\n",
    "#The function returns 4 values\n",
    "print('X train set size: ' + str(X_train.shape))\n",
    "print('X_test set size: ' + str(X_test.shape))\n",
    "print('Y_train set size: ' + str(Y_train.shape)) #The label of the train (class)\n",
    "print('Y_test set size: ' + str(Y_test.shape)) #The label of the test (class)"
   ]
  },
  {
   "cell_type": "markdown",
   "id": "ab20c5cf",
   "metadata": {},
   "source": [
    "Now we normalize our data:"
   ]
  },
  {
   "cell_type": "code",
   "execution_count": 40,
   "id": "4962ab97",
   "metadata": {},
   "outputs": [
    {
     "data": {
      "text/plain": [
       "array([[0.5       , 0.        , 0.        , 1.        , 0.        ,\n",
       "        1.        ],\n",
       "       [0.33333333, 0.        , 0.28571429, 0.        , 1.        ,\n",
       "        0.        ],\n",
       "       [0.33333333, 0.5       , 0.28571429, 0.        , 0.        ,\n",
       "        1.        ],\n",
       "       ...,\n",
       "       [0.83333333, 0.        , 0.71428571, 0.        , 1.        ,\n",
       "        0.        ],\n",
       "       [0.5       , 0.5       , 0.57142857, 0.        , 0.        ,\n",
       "        1.        ],\n",
       "       [0.33333333, 0.        , 0.42857143, 1.        , 0.        ,\n",
       "        0.        ]])"
      ]
     },
     "execution_count": 40,
     "metadata": {},
     "output_type": "execute_result"
    }
   ],
   "source": [
    "scaler = MinMaxScaler()\n",
    "scaled_X_train = scaler.fit_transform(X_train)\n",
    "scaled_X_test = scaler.transform(X_test) #Withoit fit!!\n",
    "scaled_X_train"
   ]
  },
  {
   "cell_type": "code",
   "execution_count": 41,
   "id": "617f11b9",
   "metadata": {},
   "outputs": [
    {
     "name": "stdout",
     "output_type": "stream",
     "text": [
      "The optimal number of neighbors is: 14\n",
      "Our best score: 0.8152524167561761\n"
     ]
    }
   ],
   "source": [
    "def find_optimal_k():\n",
    "\n",
    "    my_array=[]\n",
    "    optimal_k=0\n",
    "    for i in range(1,30):\n",
    "        knn_cv = KNeighborsClassifier(n_neighbors=i)\n",
    "\n",
    "        # Train model using the cross-validation method using 5 groups (cv=5) \n",
    "        cv_scores = cross_val_score(knn_cv, scaled_X_train, Y_train, cv=5) # (model, features, labels, k)\n",
    "        my_array.append(cv_scores.mean())\n",
    "\n",
    "    \n",
    "    for j in range(len(my_array)):\n",
    "        if my_array[j]>=my_array[optimal_k]:\n",
    "            optimal_k=j\n",
    "    print(\"The optimal number of neighbors is:\", optimal_k)\n",
    "    return optimal_k\n",
    "\n",
    "opt_k=find_optimal_k()\n",
    "knn2=KNeighborsClassifier(n_neighbors=opt_k)\n",
    "knn2.fit(scaled_X_train, Y_train)\n",
    "print(\"Our best score:\", knn2.score(scaled_X_test, Y_test))\n",
    "\n"
   ]
  },
  {
   "cell_type": "code",
   "execution_count": 42,
   "id": "af243989",
   "metadata": {},
   "outputs": [
    {
     "name": "stdout",
     "output_type": "stream",
     "text": [
      "         pred: 0  pred: 1\n",
      "real: 0      572       36\n",
      "real: 1      136      187\n"
     ]
    }
   ],
   "source": [
    "classifier = knn2.predict(X=scaled_X_test)\n",
    "cmtx = pd.DataFrame(\n",
    "    confusion_matrix(Y_test, classifier, labels=[0, 1]), \n",
    "    index=['real: 0', 'real: 1'], columns=['pred: 0', 'pred: 1']\n",
    ")\n",
    "print(cmtx)"
   ]
  },
  {
   "cell_type": "code",
   "execution_count": 43,
   "id": "57730539",
   "metadata": {},
   "outputs": [
    {
     "name": "stdout",
     "output_type": "stream",
     "text": [
      "Accuracy score is:0.8152524167561761\n",
      "Precision score is:0.8385650224215246\n",
      "recall score is:0.5789473684210527\n",
      "f1 score is:0.684981684981685\n"
     ]
    }
   ],
   "source": [
    "print(f\"Accuracy score is:{accuracy_score(Y_test, classifier)}\")\n",
    "print(f\"Precision score is:{precision_score(Y_test, classifier)}\") #How many of my positive predictions are correct\n",
    "print(f\"recall score is:{recall_score(Y_test, classifier)}\") #How many of the actual positive values I have successfully predicted\n",
    "print(f\"f1 score is:{f1_score(Y_test, classifier)}\") #F1 score is harmonic average of precision and recall"
   ]
  },
  {
   "cell_type": "code",
   "execution_count": null,
   "id": "d07a2a9f",
   "metadata": {},
   "outputs": [],
   "source": []
  }
 ],
 "metadata": {
  "kernelspec": {
   "display_name": "Python 3",
   "language": "python",
   "name": "python3"
  },
  "language_info": {
   "codemirror_mode": {
    "name": "ipython",
    "version": 3
   },
   "file_extension": ".py",
   "mimetype": "text/x-python",
   "name": "python",
   "nbconvert_exporter": "python",
   "pygments_lexer": "ipython3",
   "version": "3.8.8"
  }
 },
 "nbformat": 4,
 "nbformat_minor": 5
}
